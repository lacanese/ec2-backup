{
 "cells": [
  {
   "cell_type": "code",
   "execution_count": 44,
   "metadata": {},
   "outputs": [],
   "source": [
    "from ibapi.client import EClient\n",
    "from ibapi.wrapper import EWrapper\n",
    "from ibapi.contract import Contract\n",
    "\n",
    "import threading\n",
    "import time\n",
    "\n",
    "class IBapi(EWrapper, EClient):\n",
    "    def __init__(self):\n",
    "        EClient.__init__(self, self)\n",
    "        self.data = [] #Initialize variable to store candle\n",
    "\n",
    "    def historicalData(self, reqId, bar):\n",
    "        # print(f'Time: {bar.date} Close: {bar.close}')\n",
    "        self.data.append([bar.date, bar.open])\n",
    "        #print(bar)\n",
    "\n",
    "\n",
    "def GetStock(contract, duration=\"30 D\",granularity=\"1 hour\"):\n",
    "    app = IBapi()\n",
    "    app.connect('127.0.0.1', 7496, 123)\n",
    "    def run_loop():\n",
    "        app.run()\n",
    "    #Start the socket in a thread\n",
    "    api_thread = threading.Thread(target=run_loop, daemon=True)\n",
    "    api_thread.start()\n",
    "\n",
    "    time.sleep(1) #Sleep interval to allow time for connection to server\n",
    "\n",
    "\n",
    "\n",
    "    #Request historical candles\n",
    "    app.reqHistoricalData(1, contract, '', duration, granularity, 'MIDPOINT', 1, 2, False, [])\n",
    "\n",
    "    time.sleep(5) #sleep to allow enough time for data to be returned\n",
    "\n",
    "    #Working with Pandas DataFrames\n",
    "    import pandas\n",
    "\n",
    "    df = pandas.DataFrame(app.data, columns=['DateTime', 'Open'])\n",
    "    df['DateTime'] = pandas.to_datetime(df['DateTime'],unit='s')\n",
    "\n",
    "    #df['DateTime'] = pandas.to_datetime(df['DateTime'],format='%Y%m%d')\n",
    "    #df.to_csv('EURU_Hourly.csv')  \n",
    "\n",
    "    app.disconnect()\n",
    "    return df.set_index(\"DateTime\")#.rename(columns={\"Open\":\"open\"})\n"
   ]
  },
  {
   "cell_type": "code",
   "execution_count": 65,
   "metadata": {},
   "outputs": [
    {
     "name": "stderr",
     "output_type": "stream",
     "text": [
      "ERROR -1 2104 Market data farm connection is OK:usfarm.nj\n",
      "ERROR -1 2104 Market data farm connection is OK:usfuture\n",
      "ERROR -1 2104 Market data farm connection is OK:cashfarm\n",
      "ERROR -1 2104 Market data farm connection is OK:usopt\n",
      "ERROR -1 2104 Market data farm connection is OK:usfarm\n",
      "ERROR -1 2106 HMDS data farm connection is OK:euhmds\n",
      "ERROR -1 2106 HMDS data farm connection is OK:ushmds.nj\n",
      "ERROR -1 2106 HMDS data farm connection is OK:fundfarm\n",
      "ERROR -1 2106 HMDS data farm connection is OK:ushmds\n",
      "ERROR -1 2158 Sec-def data farm connection is OK:secdefnj\n"
     ]
    }
   ],
   "source": [
    "import pandas as pd\n",
    "import scipy.stats\n",
    "df = None\n",
    "#Create contract object\n",
    "contract = Contract()\n",
    "contract.symbol = 'MES'\n",
    "contract.secType = 'FUT'\n",
    "contract.exchange = 'GLOBEX'\n",
    "contract.lastTradeDateOrContractMonth  = '202009'\n",
    "\n",
    "df = GetStock(contract, duration=\"9 M\",granularity=\"1 hour\")\n",
    "  "
   ]
  },
  {
   "cell_type": "code",
   "execution_count": 66,
   "metadata": {},
   "outputs": [],
   "source": [
    "import matplotlib.pyplot as plt\n",
    "import pandas as pd\n",
    "import numpy as np"
   ]
  },
  {
   "cell_type": "code",
   "execution_count": 68,
   "metadata": {},
   "outputs": [
    {
     "data": {
      "text/plain": [
       "<matplotlib.axes._subplots.AxesSubplot at 0x13bd3f3a0>"
      ]
     },
     "execution_count": 68,
     "metadata": {},
     "output_type": "execute_result"
    },
    {
     "data": {
      "image/png": "[encoded data removed]",
      "text/plain": [
       "<Figure size 432x288 with 1 Axes>"
      ]
     },
     "metadata": {
      "needs_background": "light"
     },
     "output_type": "display_data"
    }
   ],
   "source": [
    "df.plot()"
   ]
  },
  {
   "cell_type": "code",
   "execution_count": 172,
   "metadata": {},
   "outputs": [
    {
     "data": {
      "text/plain": [
       "[(1, 2), (1, 3), (1, 4), (2, 2), (2, 3), (2, 4), (3, 2), (3, 3), (3, 4)]"
      ]
     },
     "execution_count": 172,
     "metadata": {},
     "output_type": "execute_result"
    }
   ],
   "source": [
    "import itertools\n",
    "list(itertools.product([1,2,3],[2,3,4]))"
   ]
  },
  {
   "cell_type": "code",
   "execution_count": 245,
   "metadata": {},
   "outputs": [
    {
     "data": {
      "text/plain": [
       "array([10, 20, 30, 40, 50, 60, 70, 80, 90])"
      ]
     },
     "execution_count": 245,
     "metadata": {},
     "output_type": "execute_result"
    }
   ],
   "source": [
    "np.arange(10,100,10)"
   ]
  },
  {
   "cell_type": "code",
   "execution_count": 246,
   "metadata": {},
   "outputs": [],
   "source": [
    "slows = np.arange(10,100,10)\n",
    "\n",
    "fasts = np.arange(100,240,10)\n",
    "samples = 300\n",
    "ss = []\n",
    "for slow,fast in itertools.product(slows,fasts):\n",
    "    sharpes= []\n",
    "    for i in range(samples):\n",
    "        in_n =10\n",
    "        df_ = df[np.random.randint(0,in_n,df.shape[0]) != 0]\n",
    "        sma1 = df_.rolling(int(slow/(1-1.0/in_n))).mean()\n",
    "        sma2 = df_.rolling(int(fast/(1-1.0/in_n))).mean()\n",
    "        signal = 1*(sma1>sma2)\n",
    "        returns = np.log(1+df.pct_change().shift(-1)).dropna()\n",
    "        strategy_returns = (returns*(signal)).dropna()\n",
    "        sharpe = lambda df : (252**0.5)*(df.mean()/df.std())\n",
    "        sharpes.append(sharpe(strategy_returns)[\"Open\"])\n",
    "    sharpes = np.array(sharpes)\n",
    "    #plt.hist(sharpes, bins=100);\n",
    "    ss.append(sharpes.mean())"
   ]
  },
  {
   "cell_type": "code",
   "execution_count": 247,
   "metadata": {},
   "outputs": [
    {
     "data": {
      "text/plain": [
       "array([['10 100', '10 110', '10 120', '10 130', '10 140', '10 150',\n",
       "        '10 160', '10 170', '10 180', '10 190', '10 200', '10 210',\n",
       "        '10 220', '10 230'],\n",
       "       ['20 100', '20 110', '20 120', '20 130', '20 140', '20 150',\n",
       "        '20 160', '20 170', '20 180', '20 190', '20 200', '20 210',\n",
       "        '20 220', '20 230'],\n",
       "       ['30 100', '30 110', '30 120', '30 130', '30 140', '30 150',\n",
       "        '30 160', '30 170', '30 180', '30 190', '30 200', '30 210',\n",
       "        '30 220', '30 230'],\n",
       "       ['40 100', '40 110', '40 120', '40 130', '40 140', '40 150',\n",
       "        '40 160', '40 170', '40 180', '40 190', '40 200', '40 210',\n",
       "        '40 220', '40 230'],\n",
       "       ['50 100', '50 110', '50 120', '50 130', '50 140', '50 150',\n",
       "        '50 160', '50 170', '50 180', '50 190', '50 200', '50 210',\n",
       "        '50 220', '50 230'],\n",
       "       ['60 100', '60 110', '60 120', '60 130', '60 140', '60 150',\n",
       "        '60 160', '60 170', '60 180', '60 190', '60 200', '60 210',\n",
       "        '60 220', '60 230'],\n",
       "       ['70 100', '70 110', '70 120', '70 130', '70 140', '70 150',\n",
       "        '70 160', '70 170', '70 180', '70 190', '70 200', '70 210',\n",
       "        '70 220', '70 230'],\n",
       "       ['80 100', '80 110', '80 120', '80 130', '80 140', '80 150',\n",
       "        '80 160', '80 170', '80 180', '80 190', '80 200', '80 210',\n",
       "        '80 220', '80 230'],\n",
       "       ['90 100', '90 110', '90 120', '90 130', '90 140', '90 150',\n",
       "        '90 160', '90 170', '90 180', '90 190', '90 200', '90 210',\n",
       "        '90 220', '90 230']], dtype='<U6')"
      ]
     },
     "execution_count": 247,
     "metadata": {},
     "output_type": "execute_result"
    }
   ],
   "source": [
    "np.array([ str(s)+ \" \" + str(f) for s,f in list(itertools.product(slows,fasts))]).reshape(len(slows),len(fasts))"
   ]
  },
  {
   "cell_type": "code",
   "execution_count": 259,
   "metadata": {},
   "outputs": [
    {
     "data": {
      "text/plain": [
       "(50, 120)"
      ]
     },
     "execution_count": 259,
     "metadata": {},
     "output_type": "execute_result"
    }
   ],
   "source": [
    "ss_ = np.array(ss).reshape(len(slows),len(fasts))\n",
    "list(itertools.product(slows,fasts))[np.argmax(ss_.flatten())]"
   ]
  },
  {
   "cell_type": "code",
   "execution_count": 261,
   "metadata": {},
   "outputs": [
    {
     "data": {
      "text/plain": [
       "480"
      ]
     },
     "execution_count": 261,
     "metadata": {},
     "output_type": "execute_result"
    }
   ],
   "source": [
    "120*4"
   ]
  },
  {
   "cell_type": "code",
   "execution_count": 249,
   "metadata": {},
   "outputs": [
    {
     "data": {
      "text/plain": [
       "<matplotlib.image.AxesImage at 0x13cd251c0>"
      ]
     },
     "execution_count": 249,
     "metadata": {},
     "output_type": "execute_result"
    },
    {
     "data": {
      "image/png": "[encoded data removed]",
      "text/plain": [
       "<Figure size 432x288 with 1 Axes>"
      ]
     },
     "metadata": {
      "needs_background": "light"
     },
     "output_type": "display_data"
    }
   ],
   "source": [
    "plt.imshow(ss_)"
   ]
  },
  {
   "cell_type": "code",
   "execution_count": 256,
   "metadata": {},
   "outputs": [
    {
     "data": {
      "text/plain": [
       "Open    0.402896\n",
       "dtype: float64"
      ]
     },
     "execution_count": 256,
     "metadata": {},
     "output_type": "execute_result"
    },
    {
     "data": {
      "image/png": "[encoded data removed]",
      "text/plain": [
       "<Figure size 432x288 with 1 Axes>"
      ]
     },
     "metadata": {
      "needs_background": "light"
     },
     "output_type": "display_data"
    }
   ],
   "source": [
    "sma1 = df.rolling(50).mean()\n",
    "sma2 = df.rolling(120).mean()\n",
    "signal = 1*(sma1>sma2)\n",
    "returns = np.log(1+df.pct_change().shift(-1)).dropna()\n",
    "strategy_returns = (returns*(signal)).dropna()\n",
    "np.exp(strategy_returns.cumsum(0)).plot()\n",
    "sharpe(strategy_returns)"
   ]
  },
  {
   "cell_type": "code",
   "execution_count": 251,
   "metadata": {},
   "outputs": [
    {
     "data": {
      "text/plain": [
       "(array([-0.08320629]), array([32.40914264]))"
      ]
     },
     "execution_count": 251,
     "metadata": {},
     "output_type": "execute_result"
    }
   ],
   "source": [
    "r_ = returns[signal>0].dropna()\n",
    "scipy.stats.skew(r_),scipy.stats.kurtosis(r_)"
   ]
  },
  {
   "cell_type": "code",
   "execution_count": 41,
   "metadata": {},
   "outputs": [
    {
     "data": {
      "text/plain": [
       "(array([  1.,   0.,   0.,   0.,   0.,   0.,   0.,   1.,   0.,   0.,   0.,\n",
       "          0.,   0.,   1.,   0.,   1.,   0.,   0.,   0.,   0.,   1.,   0.,\n",
       "          0.,   2.,   1.,   0.,   1.,   2.,   0.,   0.,   2.,   2.,   3.,\n",
       "          4.,   9.,   3.,  16.,  24.,  24.,  25.,  33.,  62.,  76., 113.,\n",
       "        168., 251., 311., 407., 351., 231., 166., 111.,  79.,  40.,  25.,\n",
       "         16.,  17.,   7.,   8.,   9.,   6.,   1.,   1.,   2.,   0.,   1.,\n",
       "          1.,   1.,   0.,   0.,   1.,   2.,   1.,   2.,   1.,   1.,   1.,\n",
       "          0.,   0.,   0.,   0.,   2.,   0.,   0.,   1.,   0.,   0.,   1.,\n",
       "          0.,   0.,   0.,   0.,   0.,   0.,   0.,   0.,   1.,   1.,   0.,\n",
       "          1.]),\n",
       " array([-2.36617293e-02, -2.31603626e-02, -2.26589958e-02, -2.21576291e-02,\n",
       "        -2.16562624e-02, -2.11548957e-02, -2.06535290e-02, -2.01521622e-02,\n",
       "        -1.96507955e-02, -1.91494288e-02, -1.86480621e-02, -1.81466954e-02,\n",
       "        -1.76453286e-02, -1.71439619e-02, -1.66425952e-02, -1.61412285e-02,\n",
       "        -1.56398618e-02, -1.51384950e-02, -1.46371283e-02, -1.41357616e-02,\n",
       "        -1.36343949e-02, -1.31330282e-02, -1.26316614e-02, -1.21302947e-02,\n",
       "        -1.16289280e-02, -1.11275613e-02, -1.06261946e-02, -1.01248278e-02,\n",
       "        -9.62346113e-03, -9.12209441e-03, -8.62072769e-03, -8.11936097e-03,\n",
       "        -7.61799425e-03, -7.11662753e-03, -6.61526081e-03, -6.11389409e-03,\n",
       "        -5.61252737e-03, -5.11116065e-03, -4.60979393e-03, -4.10842721e-03,\n",
       "        -3.60706049e-03, -3.10569377e-03, -2.60432705e-03, -2.10296033e-03,\n",
       "        -1.60159361e-03, -1.10022689e-03, -5.98860169e-04, -9.74934490e-05,\n",
       "         4.03873271e-04,  9.05239991e-04,  1.40660671e-03,  1.90797343e-03,\n",
       "         2.40934015e-03,  2.91070687e-03,  3.41207359e-03,  3.91344031e-03,\n",
       "         4.41480703e-03,  4.91617375e-03,  5.41754047e-03,  5.91890719e-03,\n",
       "         6.42027391e-03,  6.92164063e-03,  7.42300735e-03,  7.92437407e-03,\n",
       "         8.42574079e-03,  8.92710751e-03,  9.42847423e-03,  9.92984095e-03,\n",
       "         1.04312077e-02,  1.09325744e-02,  1.14339411e-02,  1.19353078e-02,\n",
       "         1.24366745e-02,  1.29380413e-02,  1.34394080e-02,  1.39407747e-02,\n",
       "         1.44421414e-02,  1.49435081e-02,  1.54448749e-02,  1.59462416e-02,\n",
       "         1.64476083e-02,  1.69489750e-02,  1.74503417e-02,  1.79517085e-02,\n",
       "         1.84530752e-02,  1.89544419e-02,  1.94558086e-02,  1.99571753e-02,\n",
       "         2.04585421e-02,  2.09599088e-02,  2.14612755e-02,  2.19626422e-02,\n",
       "         2.24640089e-02,  2.29653757e-02,  2.34667424e-02,  2.39681091e-02,\n",
       "         2.44694758e-02,  2.49708425e-02,  2.54722093e-02,  2.59735760e-02,\n",
       "         2.64749427e-02]),\n",
       " <a list of 100 Patch objects>)"
      ]
     },
     "execution_count": 41,
     "metadata": {},
     "output_type": "execute_result"
    },
    {
     "data": {
      "image/png": "[encoded data removed]",
      "text/plain": [
       "<Figure size 432x288 with 1 Axes>"
      ]
     },
     "metadata": {
      "needs_background": "light"
     },
     "output_type": "display_data"
    }
   ],
   "source": [
    "plt.hist(r_.values.flatten(),bins=100, log=True)"
   ]
  },
  {
   "cell_type": "code",
   "execution_count": 208,
   "metadata": {},
   "outputs": [
    {
     "name": "stdout",
     "output_type": "stream",
     "text": [
      "1 15 0.4056599980103164\n",
      "1 30 0.5387643575052086\n",
      "1 60 0.2986125404402119\n",
      "1 120 0.2844189812317161\n",
      "4 15 0.5343738498087321\n",
      "4 30 0.5424284148585676\n",
      "4 60 0.31604512524790707\n",
      "4 120 0.29524572614672984\n",
      "8 15 0.2730032971724587\n",
      "8 30 0.2185304862245886\n",
      "8 60 0.2664766486968724\n",
      "8 120 0.33496092798470745\n",
      "16 15 -0.16115606997755946\n",
      "16 30 0.3060055589677057\n",
      "16 60 0.06089203778025449\n",
      "16 120 0.3416150642903832\n",
      "24 15 -0.2605416875016586\n",
      "24 30 0.01649408966333939\n",
      "24 60 0.0960690868772984\n",
      "24 120 0.3794746500057234\n"
     ]
    }
   ],
   "source": [
    "returns = np.log(1+df.pct_change().shift(-1)).dropna()\n",
    "\n",
    "samples = []\n",
    "for w1 in [1,4,8,16,24]: # np.random.randint(0,200,50):\n",
    "    for w2 in [15,30,60,120]: #np.random.randint(0,200,50):\n",
    "        sma1 = df.rolling(w1).mean()\n",
    "        sma2 = df.rolling(w2).mean()\n",
    "        signal = 1*(sma1>sma2)\n",
    "        strategy_returns = (returns*(signal)).dropna()\n",
    "        sharpe = lambda df : (252**0.5)*(df.mean()/df.std())\n",
    "        sr = sharpe(strategy_returns.mean(1))\n",
    "        samples.append([w1,w2,sr])\n",
    "        print(w1,w2,sr)"
   ]
  },
  {
   "cell_type": "code",
   "execution_count": 204,
   "metadata": {},
   "outputs": [],
   "source": [
    "runs = np.nan_to_num(np.array(samples))"
   ]
  }
 ],
 "metadata": {
  "kernelspec": {
   "display_name": "Python 3",
   "language": "python",
   "name": "python3"
  },
  "language_info": {
   "codemirror_mode": {
    "name": "ipython",
    "version": 3
   },
   "file_extension": ".py",
   "mimetype": "text/x-python",
   "name": "python",
   "nbconvert_exporter": "python",
   "pygments_lexer": "ipython3",
   "version": "3.8.2"
  }
 },
 "nbformat": 4,
 "nbformat_minor": 4
}
